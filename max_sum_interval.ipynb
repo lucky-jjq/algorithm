{
 "cells": [
  {
   "cell_type": "code",
   "execution_count": 1,
   "metadata": {},
   "outputs": [
    {
     "name": "stdout",
     "output_type": "stream",
     "text": [
      "[-2, 0]\n",
      "[-2, 0, 6]\n",
      "[-2, 0, 6, 4]\n",
      "[-2, 0, 6, 4, 1]\n",
      "[-2, 0, 6, 4, 1, 2]\n",
      "[-2, 0, 6, 4, 1, 2, 7]\n",
      "[-2, 0, 6, 4, 1, 2, 7, 1]\n"
     ]
    },
    {
     "data": {
      "text/plain": [
       "7"
      ]
     },
     "execution_count": 1,
     "metadata": {},
     "output_type": "execute_result"
    }
   ],
   "source": [
    "a = [-2,-5,6,-2,-3,1,5,-6]\n",
    "# return should be 7\n",
    "# 6, -2, -3, 1, 5\n",
    "\n",
    "def maxSumInterval(a):\n",
    "    '''\n",
    "    return the maximum of an interval within a given list\n",
    "    '''\n",
    "    best = [a[0]]\n",
    "    for i in range(1, len(a)):\n",
    "        best.append(max(a[i],0,best[i-1]+a[i]))\n",
    "        print(best)\n",
    "    return max(best)\n",
    "        \n",
    "maxSumInterval(a)\n"
   ]
  },
  {
   "cell_type": "code",
   "execution_count": null,
   "metadata": {},
   "outputs": [],
   "source": [
    "def maxSUmInterval_recursive(a):\n",
    "\n",
    "def mergeFindMaxInter(left,right):\n",
    "    # merge array left and right and find the max sum interval of the two array\n",
    "    left_max = left[-1]\n",
    "    right_max = right[0]\n",
    "    for i in range(1,len(left)+1):\n",
    "        left[-i]\n",
    "        \n",
    "        \n",
    "    "
   ]
  },
  {
   "cell_type": "code",
   "execution_count": 12,
   "metadata": {},
   "outputs": [
    {
     "ename": "IndexError",
     "evalue": "list index out of range",
     "output_type": "error",
     "traceback": [
      "\u001b[1;31m---------------------------------------------------------------------------\u001b[0m",
      "\u001b[1;31mIndexError\u001b[0m                                Traceback (most recent call last)",
      "\u001b[1;32m<ipython-input-12-836f840eaf9f>\u001b[0m in \u001b[0;36m<module>\u001b[1;34m\u001b[0m\n\u001b[1;32m----> 1\u001b[1;33m \u001b[0ma\u001b[0m\u001b[1;33m[\u001b[0m\u001b[0mlen\u001b[0m\u001b[1;33m(\u001b[0m\u001b[0ma\u001b[0m\u001b[1;33m)\u001b[0m\u001b[1;33m]\u001b[0m\u001b[1;33m\u001b[0m\u001b[1;33m\u001b[0m\u001b[0m\n\u001b[0m",
      "\u001b[1;31mIndexError\u001b[0m: list index out of range"
     ]
    }
   ],
   "source": []
  },
  {
   "cell_type": "code",
   "execution_count": null,
   "metadata": {},
   "outputs": [],
   "source": []
  }
 ],
 "metadata": {
  "kernelspec": {
   "display_name": "Python 3",
   "language": "python",
   "name": "python3"
  },
  "language_info": {
   "codemirror_mode": {
    "name": "ipython",
    "version": 3
   },
   "file_extension": ".py",
   "mimetype": "text/x-python",
   "name": "python",
   "nbconvert_exporter": "python",
   "pygments_lexer": "ipython3",
   "version": "3.7.3"
  }
 },
 "nbformat": 4,
 "nbformat_minor": 2
}
